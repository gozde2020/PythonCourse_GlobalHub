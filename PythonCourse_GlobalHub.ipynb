{
 "cells": [
  {
   "cell_type": "code",
   "execution_count": null,
   "metadata": {},
   "outputs": [],
   "source": [
    "# HW1\n",
    "name = input(\"What is your name?: \")\n",
    "typeofname = type(name)\n",
    "lastname = input(\"What is your last name?: \")\n",
    "typeoflastname = type(lastname)\n",
    "age = int(input(\"How old are you?: \"))\n",
    "typeofage = type(age)\n",
    "city = str(input (\"Where are you from?: \"))\n",
    "typeofcity = type(city)\n",
    "hoby = bool(input (\"Do you like hiking? True or False: \"))\n",
    "typeofhoby = type(hoby)\n",
    "print(\"The type of the name value is {}\".format(typeofname))\n",
    "print(\"The type of the name value is {}\".format(typeoflastname))\n",
    "print(\"The type of the name value is {}\".format(typeofage))\n",
    "# print(\"The type of the name value is {}\".format(typeofcity))\n",
    "print(f'The type of the name value is {typeofcity}')\n",
    "# print(\"The type of the name value is {}\".format(typeofhoby))\n",
    "print(f'The type of the name value is {typeofhoby}')"
   ]
  },
  {
   "cell_type": "code",
   "execution_count": null,
   "metadata": {},
   "outputs": [],
   "source": [
    "# HW2\n",
    "firstname = input(\"Please enter your firstname: \")\n",
    "lastname =  input(\"Please enter your lastname: \")\n",
    "age = int(input(\"Please enter your age: \"))\n",
    "dob = int(input(\"Please enter your date of birth: \"))\n",
    "mylist = [firstname, lastname, age, dob]\n",
    "for i in mylist:\n",
    "    print(i)\n",
    "if age<18:\n",
    "    print(\"You can't go out because it's too dangerous\")\n",
    "else:\n",
    "    print(\"You can go out!\")\n",
    "\n",
    "\n"
   ]
  }
 ],
 "metadata": {
  "kernelspec": {
   "display_name": "Python 3",
   "language": "python",
   "name": "python3"
  },
  "language_info": {
   "codemirror_mode": {
    "name": "ipython",
    "version": 3
   },
   "file_extension": ".py",
   "mimetype": "text/x-python",
   "name": "python",
   "nbconvert_exporter": "python",
   "pygments_lexer": "ipython3",
   "version": "3.8.5"
  }
 },
 "nbformat": 4,
 "nbformat_minor": 4
}
